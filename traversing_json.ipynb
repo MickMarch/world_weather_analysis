{
 "cells": [
  {
   "cell_type": "code",
   "execution_count": 1,
   "metadata": {},
   "outputs": [],
   "source": [
    "import requests\n",
    "from config import weather_api_key"
   ]
  },
  {
   "cell_type": "code",
   "execution_count": 2,
   "metadata": {},
   "outputs": [],
   "source": [
    "url = \"http://api.openweathermap.org/data/2.5/weather?\"\n",
    "city = \"Ottawa\"\n"
   ]
  },
  {
   "cell_type": "code",
   "execution_count": 3,
   "metadata": {},
   "outputs": [],
   "source": [
    "query_url = url + \"appid=\" + weather_api_key + \"&q=\" + city"
   ]
  },
  {
   "cell_type": "code",
   "execution_count": 4,
   "metadata": {},
   "outputs": [],
   "source": [
    "weather_response = requests.get(query_url)\n",
    "weather_json = weather_response.json()"
   ]
  },
  {
   "cell_type": "code",
   "execution_count": 5,
   "metadata": {},
   "outputs": [
    {
     "data": {
      "text/plain": [
       "dict_keys(['coord', 'weather', 'base', 'main', 'visibility', 'wind', 'clouds', 'dt', 'sys', 'timezone', 'id', 'name', 'cod'])"
      ]
     },
     "execution_count": 5,
     "metadata": {},
     "output_type": "execute_result"
    }
   ],
   "source": [
    "weather_json.keys()"
   ]
  },
  {
   "cell_type": "code",
   "execution_count": 6,
   "metadata": {},
   "outputs": [
    {
     "data": {
      "text/plain": [
       "{'coord': {'lon': -75.6981, 'lat': 45.4112},\n",
       " 'weather': [{'id': 804,\n",
       "   'main': 'Clouds',\n",
       "   'description': 'overcast clouds',\n",
       "   'icon': '04n'}],\n",
       " 'base': 'stations',\n",
       " 'main': {'temp': 271.14,\n",
       "  'feels_like': 264.14,\n",
       "  'temp_min': 270.24,\n",
       "  'temp_max': 272.58,\n",
       "  'pressure': 1017,\n",
       "  'humidity': 84},\n",
       " 'visibility': 8047,\n",
       " 'wind': {'speed': 9.26, 'deg': 330},\n",
       " 'clouds': {'all': 100},\n",
       " 'dt': 1673320673,\n",
       " 'sys': {'type': 2,\n",
       "  'id': 2005537,\n",
       "  'country': 'CA',\n",
       "  'sunrise': 1673268085,\n",
       "  'sunset': 1673300268},\n",
       " 'timezone': -18000,\n",
       " 'id': 6094817,\n",
       " 'name': 'Ottawa',\n",
       " 'cod': 200}"
      ]
     },
     "execution_count": 6,
     "metadata": {},
     "output_type": "execute_result"
    }
   ],
   "source": [
    "weather_json"
   ]
  },
  {
   "cell_type": "code",
   "execution_count": null,
   "metadata": {},
   "outputs": [],
   "source": []
  }
 ],
 "metadata": {
  "kernelspec": {
   "display_name": "PythonData",
   "language": "python",
   "name": "python3"
  },
  "language_info": {
   "codemirror_mode": {
    "name": "ipython",
    "version": 3
   },
   "file_extension": ".py",
   "mimetype": "text/x-python",
   "name": "python",
   "nbconvert_exporter": "python",
   "pygments_lexer": "ipython3",
   "version": "3.7.15 (default, Nov 24 2022, 18:44:54) [MSC v.1916 64 bit (AMD64)]"
  },
  "orig_nbformat": 4,
  "vscode": {
   "interpreter": {
    "hash": "2a541175187fcfd873385d8a9c6befa2df1d9fb2f0d8c33fecedad8bb751dff6"
   }
  }
 },
 "nbformat": 4,
 "nbformat_minor": 2
}
