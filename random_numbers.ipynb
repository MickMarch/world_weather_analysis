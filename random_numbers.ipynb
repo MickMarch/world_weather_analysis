{
 "cells": [
  {
   "cell_type": "code",
   "execution_count": 1,
   "metadata": {},
   "outputs": [],
   "source": [
    "# Dependencies\n",
    "import random"
   ]
  },
  {
   "cell_type": "code",
   "execution_count": 2,
   "metadata": {},
   "outputs": [
    {
     "data": {
      "text/plain": [
       "0.47752625338315224"
      ]
     },
     "execution_count": 2,
     "metadata": {},
     "output_type": "execute_result"
    }
   ],
   "source": [
    "# Generate a random float number\n",
    "\n",
    "random.random()"
   ]
  },
  {
   "cell_type": "code",
   "execution_count": 3,
   "metadata": {},
   "outputs": [
    {
     "data": {
      "text/plain": [
       "3"
      ]
     },
     "execution_count": 3,
     "metadata": {},
     "output_type": "execute_result"
    }
   ],
   "source": [
    "# Generate a random integer between -10 and 10\n",
    "random.randint(-10, 10)"
   ]
  },
  {
   "cell_type": "code",
   "execution_count": 4,
   "metadata": {},
   "outputs": [
    {
     "data": {
      "text/plain": [
       "0"
      ]
     },
     "execution_count": 4,
     "metadata": {},
     "output_type": "execute_result"
    }
   ],
   "source": [
    "# Generate a random integer between -10 and 10 but only by steps of 2\n",
    "random.randrange(-10, 10, 2)"
   ]
  },
  {
   "cell_type": "code",
   "execution_count": 5,
   "metadata": {},
   "outputs": [
    {
     "data": {
      "text/plain": [
       "-1.717720241683864"
      ]
     },
     "execution_count": 5,
     "metadata": {},
     "output_type": "execute_result"
    }
   ],
   "source": [
    "# Generate a random integer between -10 and 10\n",
    "random.uniform(-10, 10)"
   ]
  },
  {
   "cell_type": "code",
   "execution_count": 6,
   "metadata": {},
   "outputs": [
    {
     "data": {
      "text/plain": [
       "[-19.34077608742533,\n",
       " 84.58454752457504,\n",
       " -55.201184293754714,\n",
       " 61.001383112699486,\n",
       " 1.5954142344994602,\n",
       " -47.94607117272445,\n",
       " 74.54656369694192,\n",
       " -49.300307564160505,\n",
       " 53.2690847286621,\n",
       " -46.00760600151002]"
      ]
     },
     "execution_count": 6,
     "metadata": {},
     "output_type": "execute_result"
    }
   ],
   "source": [
    "# Method 1 of getting a float between -90 and 90\n",
    "\n",
    "latitudes = []\n",
    "\n",
    "for i in range(10):\n",
    "    random_lat = random.randint(-90, 89) + random.random()\n",
    "\n",
    "    latitudes.append(random_lat)\n",
    "\n",
    "latitudes"
   ]
  },
  {
   "cell_type": "code",
   "execution_count": 7,
   "metadata": {},
   "outputs": [
    {
     "data": {
      "text/plain": [
       "[43.36792293134266,\n",
       " 81.89487623241817,\n",
       " -18.732915947259627,\n",
       " 26.87780066030055,\n",
       " -69.40185392688237,\n",
       " 69.00693545178655,\n",
       " -72.90956029151279,\n",
       " 72.52154764664536,\n",
       " -68.68422694527982,\n",
       " 66.12129689679921]"
      ]
     },
     "execution_count": 7,
     "metadata": {},
     "output_type": "execute_result"
    }
   ],
   "source": [
    "# Method 2 of getting a float between -90 and 90\n",
    "\n",
    "latitudes = []\n",
    "\n",
    "for i in range(10):\n",
    "    random_lat = random.uniform(-90, 90)\n",
    "\n",
    "    latitudes.append(random_lat)\n",
    "\n",
    "latitudes"
   ]
  },
  {
   "cell_type": "code",
   "execution_count": 8,
   "metadata": {},
   "outputs": [
    {
     "data": {
      "text/plain": [
       "[56.20383037404878,\n",
       " -34.201104969251624,\n",
       " -36.94335008881664,\n",
       " 85.18006244240779,\n",
       " 1.3371397322828877,\n",
       " 65.1009513742841,\n",
       " 15.81757728854453,\n",
       " -32.08735842332149,\n",
       " -75.69148255842056,\n",
       " 38.95070485319668]"
      ]
     },
     "execution_count": 8,
     "metadata": {},
     "output_type": "execute_result"
    }
   ],
   "source": [
    "# Method 3 of getting a float between -90 and 90\n",
    "\n",
    "latitudes = []\n",
    "\n",
    "for i in range(10):\n",
    "    random_lat = random.randrange(-90, 89, step=1) + random.random()\n",
    "\n",
    "    latitudes.append(random_lat)\n",
    "\n",
    "latitudes"
   ]
  },
  {
   "cell_type": "code",
   "execution_count": 9,
   "metadata": {},
   "outputs": [],
   "source": [
    "# Import the NumPy module. It has its own built in random module. There is no need to import random, as it's redundant\n",
    "import numpy as np"
   ]
  },
  {
   "cell_type": "code",
   "execution_count": 11,
   "metadata": {},
   "outputs": [
    {
     "data": {
      "text/plain": [
       "-38.975220378622325"
      ]
     },
     "execution_count": 11,
     "metadata": {},
     "output_type": "execute_result"
    }
   ],
   "source": [
    "np.random.uniform(-90, 90)"
   ]
  },
  {
   "cell_type": "code",
   "execution_count": 12,
   "metadata": {},
   "outputs": [
    {
     "data": {
      "text/plain": [
       "array([ 16.12769034, -62.91943972,  47.95942306,  13.11022326,\n",
       "        86.38417182,  79.81779294,  53.58202674,  29.9406721 ,\n",
       "        87.44912351, -75.20970262,  80.02473088,  -7.65731621,\n",
       "        52.17894117,   6.59906595,  57.49586331, -62.35467346,\n",
       "       -74.02725216,  31.61841707,  -6.78634836,  78.46943295,\n",
       "        -5.54582052, -79.18971337, -13.80233641,   4.45769782,\n",
       "        70.98414222,  21.65377197,  33.14465273,  71.90374846,\n",
       "        -7.89138362, -38.95618657, -64.92125914, -11.57229446,\n",
       "       -73.22978673, -51.0603899 ,  28.20342938, -73.62515342,\n",
       "        84.0940373 ,  43.68535754, -78.73082763, -80.56852199,\n",
       "       -82.27882307, -53.84953092, -24.14443577,  78.62362028,\n",
       "        76.32080382, -74.31626067, -57.53007328,  29.55708071,\n",
       "        59.03153755,   9.96675206])"
      ]
     },
     "execution_count": 12,
     "metadata": {},
     "output_type": "execute_result"
    }
   ],
   "source": [
    "# numpy can return an array, by using the \"size\" parameter\n",
    "\n",
    "np.random.uniform(-90, 90, size= 50)"
   ]
  },
  {
   "cell_type": "code",
   "execution_count": 13,
   "metadata": {},
   "outputs": [],
   "source": [
    "# time to test if np.random is faster than a while or a for loop\n",
    "# Import timeit.\n",
    "import timeit"
   ]
  },
  {
   "cell_type": "code",
   "execution_count": 14,
   "metadata": {},
   "outputs": [
    {
     "name": "stdout",
     "output_type": "stream",
     "text": [
      "13.2 µs ± 61.4 ns per loop (mean ± std. dev. of 7 runs, 100000 loops each)\n"
     ]
    }
   ],
   "source": [
    "# Timing Numpy\n",
    "\n",
    "%timeit np.random.uniform(-90, 90, size= 1500)"
   ]
  },
  {
   "cell_type": "code",
   "execution_count": 15,
   "metadata": {},
   "outputs": [],
   "source": [
    "# Create 2 functions for latitudes, 1 while loop and 1 for loop\n",
    "\n",
    "def latitudes_while(size):\n",
    "    x = 0\n",
    "    latitudes = []\n",
    "    while x < size:\n",
    "\n",
    "        latitudes.append(random.randint(-90, 89) + random.random())\n",
    "        x += 1\n",
    "\n",
    "    return latitudes\n",
    "\n",
    "def latitudes_for(size):\n",
    "\n",
    "    latitudes = []\n",
    "\n",
    "    for i in range(size):\n",
    "        latitudes.append(random.randint(-90, 89) + random.random())\n",
    "    \n",
    "    return latitudes\n"
   ]
  },
  {
   "cell_type": "code",
   "execution_count": 16,
   "metadata": {},
   "outputs": [
    {
     "name": "stdout",
     "output_type": "stream",
     "text": [
      "1.59 ms ± 4.86 µs per loop (mean ± std. dev. of 7 runs, 1000 loops each)\n"
     ]
    }
   ],
   "source": [
    "# Time while loop\n",
    "\n",
    "%timeit latitudes_while(1500)"
   ]
  },
  {
   "cell_type": "code",
   "execution_count": 17,
   "metadata": {},
   "outputs": [
    {
     "name": "stdout",
     "output_type": "stream",
     "text": [
      "1.53 ms ± 3.61 µs per loop (mean ± std. dev. of 7 runs, 1000 loops each)\n"
     ]
    }
   ],
   "source": [
    "# Time for loop\n",
    "\n",
    "%timeit latitudes_for(1500)"
   ]
  },
  {
   "cell_type": "code",
   "execution_count": null,
   "metadata": {},
   "outputs": [],
   "source": []
  }
 ],
 "metadata": {
  "kernelspec": {
   "display_name": "PythonData",
   "language": "python",
   "name": "python3"
  },
  "language_info": {
   "codemirror_mode": {
    "name": "ipython",
    "version": 3
   },
   "file_extension": ".py",
   "mimetype": "text/x-python",
   "name": "python",
   "nbconvert_exporter": "python",
   "pygments_lexer": "ipython3",
   "version": "3.7.13 (default, Mar 28 2022, 07:24:34) \n[Clang 12.0.0 ]"
  },
  "orig_nbformat": 4,
  "vscode": {
   "interpreter": {
    "hash": "4d9850014be5c40d106a258cbc168045948159d3abcbc6a110cb62c73abe3cc0"
   }
  }
 },
 "nbformat": 4,
 "nbformat_minor": 2
}
